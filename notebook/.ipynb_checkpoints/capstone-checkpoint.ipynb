{
 "cells": [
  {
   "cell_type": "code",
   "execution_count": 1,
   "id": "2522fee8-ce2a-4fd8-baa2-979cb2039d5d",
   "metadata": {},
   "outputs": [],
   "source": [
    "import spacy\n",
    "# Load spacy model trained on over 100 target product items data. \n",
    "\n",
    "# my ner model that identifies retail accessories & apparel related products\n",
    "my_ner = spacy.load(\"../output/model-last\")\n",
    "\n",
    "# pretrained model for general tasks like parsing sentence\n",
    "nlp = spacy.load(\"en_core_web_lg\")"
   ]
  },
  {
   "cell_type": "code",
   "execution_count": 2,
   "id": "0b70d8a4-5462-4e8b-8dad-08edb35d26b7",
   "metadata": {},
   "outputs": [],
   "source": [
    "from bs4 import BeautifulSoup\n",
    "\n",
    "def get_plain_text_from_html(file_path_name: str):\n",
    "    \n",
    "    with open(file_path_name,'r') as html_file:\n",
    "        soup = BeautifulSoup(html_file,'html.parser')\n",
    "        html_file.close()\n",
    "        \n",
    "    return soup.text\n"
   ]
  },
  {
   "cell_type": "code",
   "execution_count": 3,
   "id": "6383f93a-84bf-489d-9581-afed5834acab",
   "metadata": {},
   "outputs": [],
   "source": [
    "example_input = '../workspace_draft/data/raw-html/test-examples/scarf.html'\n",
    "\n",
    "plain_text = get_plain_text_from_html(example_input)"
   ]
  },
  {
   "cell_type": "code",
   "execution_count": 8,
   "id": "7cf907c4-dd65-43eb-a537-5635a668dab1",
   "metadata": {},
   "outputs": [
    {
     "name": "stdout",
     "output_type": "stream",
     "text": [
      "\n",
      "\n",
      "A scarf (pl.: scarves or scarfs) is a long piece of fabric that is worn on or around the neck, shoulders, or head.\n",
      "A scarf is used for warmth, sun protection, cleanliness, fashion, religious reasons, or to show support for a sports club or team.\n",
      "Some Croatian soldiers served as mercenaries with the French forces; their scarves were sometimes referred to as \"cravats\" (from the French cravate, meaning \"Croat\"), and were the precursor to the necktie.\n",
      "The French epitomised the elegant scarf style.\n",
      "The French word for \"scarf\" is a derivative of the Croatian word Kravata.\n",
      "\n",
      "In the New England region of North America, bereaved families were given a scarf as a thank-you gift, as a mark of respect.\n",
      "\n",
      "The scarf became a real fashion accessory by the early 19th century for both men and women.\n",
      "\n",
      "\n",
      "Throughout the 20th century, the fashion industry adopted the scarf.\n",
      "Hermes started making scarves that were designed by some of the biggest names in the fashion and music industries in Hollywood; actor Grace Kelly sported one of Hermes's scarves.\n",
      "Hermes imported raw silk from China that was made into long-lasting high-quality fabric with hand print; the process involved 43 screens to produce colour effects, and this printed scarf design was exhibited in a picture by two women in white wigs playing a game.\n",
      "\n",
      "Madonna, in the 1980s, corralled her perm with a scarf.\n",
      "There are many types of scarf, including neck scarves, ponchos, head scarves, and kercheifs.\n",
      "The winter scarf is sometimes called a muffler, and is usually accompanied by a heavy jacket or coat.\n",
      "The winter scarf can be wrapped around the face and ears for additional protection from cold.\n",
      "\n",
      "The cravat, an ancestor of the necktie and bow tie, evolved from scarves of this sort in Croatia From the keffiyeh, a headscarf worn by men in the Middle East has come the Palestinian keffiyeh, worn to symbolise support for the cause of Palestine.\n",
      "\n",
      "In India, woollen scarves with Bandhani work adopting tie-and-dye techniques are commonly worn in Bhuj and Mandvi in the Kutch District of Gujarat.\n",
      "In India and elsewhere there is a trend of wearing a scarf or dupatta as a safeguard against pollution.\n",
      "\n",
      "Scarves can be tied in many ways, including the pussy-cat bow, the square knot, the cowboy bib, the ascot knot, the loop, the necktie, and the gipsy kerchief.\n",
      "In Islamic religious culture, wearing a head scarf is linked to the Quran.\n",
      "In Saudi Arabia, wearing a head scarf is necessary to face the harsh climate and intense heat, even before Islam was adopted.\n",
      "Scarves are also used as fashion accessories with evening gowns by draping them over the shoulders or arms; one example is the feather boa.\n",
      "\n",
      "\n",
      "In religious or cultural use\n",
      "The ecclesiastical scarf was originally a loose wrap or muffler (band) that was worn around the neck when out of doors.\n",
      "The scarf's use has been almost entirely replaced by that of the stole, with which it has sometimes been confused.\n",
      "\n",
      "Several Christian denominations include a scarf known as a stole as part of their liturgical vestments.\n",
      "In the English Church, the scarf of colour made of black silk, which is twice the width of a stole, is worn around the neck of chaplains, doctors of religion, and other clergy.\n",
      "Mourners at funerals wear a black scarf made of silk or crape over the right shoulder.\n",
      "In the procession, the colour of the scarf is mandatorily blue for Subordinate Lodge and purple for the Grand Lodge.\n",
      "\n",
      "The khata is a scarf used in Himalayan buddhist tradition as an offering or a gift, usually white in Tibetan tradition but elsewhere blue or other colours.\n",
      "\n",
      "\n",
      "In uniforms\n",
      "Pilots of early aircraft wore white, silken scarves and knitted scarfs to keep oily smoke from the exhaust out of their mouths while flying.\n",
      "The flight attendant's uniform has also undergone substantial changes; many female uniforms include a scarf.\n",
      "In this context, female cabin crew of Emirate Airlines wear a drape scarf.\n",
      "Air Canada's dictum is; \"Wear your scarf at all times\".\n",
      "\n",
      "This scarf is made from Saxony wool and usually measures 2 metres (6.6 ft) in length, with a rectangular shape, and two or more longitudinal coloured stripes.\n",
      "\n",
      "Members of the Scout Movement wear a scarf, sometimes called a neckerchief, as part of their uniform.\n",
      "The Scout scarf was copied from common frontier, rural and outdoor wear.\n",
      "Such a scarf can be used to cover the face from dust or sun or for first aid with a bleeding injury or as a splint, sling or bandage.\n",
      "Scarf-wearing became common in 1970s.\n",
      "Scarf sales are an important part of the football economy throughout Europe.\n",
      "At some clubs, supporters sometimes perform a \"scarf wall\" in which all supporters in a section of the stadium will stretch out their scarves above their heads, creating a wall of colour.\n",
      "\n",
      "This scarf wall is usually accompanied by the singing of a club anthem, such as \"You'll Never Walk Alone\" at Liverpool F.C. matches, or national anthems such as \"La Marseillaise\" at France national football team matches.\n",
      "At matches, fans wear apparel including scarves, knitted hats, and shirts.\n",
      "\n",
      "\n",
      "Hermès, which made its first scarf in 1937, has produced more than 2,000 designs.\n",
      "In 1937, Hermès designed a woodblock scarf made of Chinese silk that was worn by Queen Elizabeth II of England, American First Lady Jacqueline Kennedy Onassis, and Grace Kelly.\n",
      "\n",
      "The basic scarf shapes are square, triangular, and rectangular.\n",
      "The most common type is the square scarf, which can be folded to form a rectangular or triangular scarf.\n",
      "The style of the garment with which the finished scarf is worn will make a difference, as will the way it is tied.\n",
      "\n",
      "\n"
     ]
    }
   ],
   "source": [
    "doc = nlp(plain_text)\n",
    "\n",
    "freq = {}\n",
    "\n",
    "for sent in doc.sents:\n",
    "    ner = my_ner(sent.text)\n",
    "    if len(ner.ents) > 0:\n",
    "        print(ner.text)\n",
    "#     product = e.text\n",
    "#     if product in freq:\n",
    "#         freq[product] += 1\n",
    "#     else:\n",
    "#         freq[product] = 1\n",
    "\n",
    "# product = max(freq,key=freq.get)\n",
    "# print(product)\n"
   ]
  },
  {
   "cell_type": "code",
   "execution_count": null,
   "id": "e3c30067-d762-46ef-9ce0-5a7fb312e4f9",
   "metadata": {},
   "outputs": [],
   "source": []
  }
 ],
 "metadata": {
  "kernelspec": {
   "display_name": "Python 3 (ipykernel)",
   "language": "python",
   "name": "python3"
  },
  "language_info": {
   "codemirror_mode": {
    "name": "ipython",
    "version": 3
   },
   "file_extension": ".py",
   "mimetype": "text/x-python",
   "name": "python",
   "nbconvert_exporter": "python",
   "pygments_lexer": "ipython3",
   "version": "3.13.3"
  }
 },
 "nbformat": 4,
 "nbformat_minor": 5
}
