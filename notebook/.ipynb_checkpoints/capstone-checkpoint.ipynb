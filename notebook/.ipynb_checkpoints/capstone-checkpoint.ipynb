{
 "cells": [
  {
   "cell_type": "code",
   "execution_count": 7,
   "id": "2522fee8-ce2a-4fd8-baa2-979cb2039d5d",
   "metadata": {},
   "outputs": [],
   "source": [
    "import spacy\n",
    "from spacy import displacy\n",
    "from spacy.tokens import Span\n",
    "\n",
    "# my ner model that identifies retail accessories & apparel related products\n",
    "my_nlp = spacy.load(\"../output_fin/model-best\")\n",
    "\n",
    "# pretrained model for general tasks like parsing sentence\n",
    "nlp = spacy.load(\"en_core_web_sm\")"
   ]
  },
  {
   "cell_type": "code",
   "execution_count": 8,
   "id": "0b70d8a4-5462-4e8b-8dad-08edb35d26b7",
   "metadata": {},
   "outputs": [],
   "source": [
    "from file_manager import FileManager\n",
    "\n",
    "file = FileManager('../notebook/input/scarf.html')\n",
    "file_content = file.read_file()"
   ]
  },
  {
   "cell_type": "code",
   "execution_count": 9,
   "id": "30ae383b-d996-45cb-8c41-8ac68447db90",
   "metadata": {},
   "outputs": [],
   "source": [
    "ent_doc = my_nlp(file_content)\n",
    "ling_doc = nlp(file_content)"
   ]
  },
  {
   "cell_type": "code",
   "execution_count": 10,
   "id": "ef4f0352-0672-447d-94a1-3961190be4f2",
   "metadata": {},
   "outputs": [],
   "source": [
    "from token_analysis import DualDocAnalysis\n",
    "\n",
    "analyzer = DualDocAnalysis(ling_doc=ling_doc,ent_doc=ent_doc)\n",
    "\n",
    "#get main product entities from document\n",
    "# returns potential important linguistic features related to product\n",
    "ling_info = analyzer.get_all_doc_ent_ling_info()\n",
    "span_info = analyzer.get_related_spans()"
   ]
  },
  {
   "cell_type": "code",
   "execution_count": null,
   "id": "6950c421-7ec9-4f0b-9530-27ae56ebea4e",
   "metadata": {},
   "outputs": [],
   "source": []
  }
 ],
 "metadata": {
  "kernelspec": {
   "display_name": "Python 3 (ipykernel)",
   "language": "python",
   "name": "python3"
  },
  "language_info": {
   "codemirror_mode": {
    "name": "ipython",
    "version": 3
   },
   "file_extension": ".py",
   "mimetype": "text/x-python",
   "name": "python",
   "nbconvert_exporter": "python",
   "pygments_lexer": "ipython3",
   "version": "3.13.3"
  }
 },
 "nbformat": 4,
 "nbformat_minor": 5
}
