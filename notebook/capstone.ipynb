{
 "cells": [
  {
   "cell_type": "code",
   "execution_count": 11,
   "id": "2522fee8-ce2a-4fd8-baa2-979cb2039d5d",
   "metadata": {},
   "outputs": [],
   "source": [
    "import spacy\n",
    "# Load spacy model trained on over 100 target product items data. \n",
    "\n",
    "# my ner model that identifies retail accessories & apparel related products\n",
    "my_ner = spacy.load(\"../output/model-last\")\n",
    "\n",
    "# pretrained model for general tasks like parsing sentence\n",
    "nlp = spacy.load(\"en_core_web_lg\")"
   ]
  },
  {
   "cell_type": "code",
   "execution_count": 12,
   "id": "0b70d8a4-5462-4e8b-8dad-08edb35d26b7",
   "metadata": {},
   "outputs": [],
   "source": [
    "from bs4 import BeautifulSoup\n",
    "\n",
    "def get_plain_text_from_html(file_path_name: str):\n",
    "    \n",
    "    with open(file_path_name,'r') as html_file:\n",
    "        soup = BeautifulSoup(html_file,'html.parser')\n",
    "        html_file.close()\n",
    "        \n",
    "    return soup.text\n"
   ]
  },
  {
   "cell_type": "code",
   "execution_count": 14,
   "id": "6383f93a-84bf-489d-9581-afed5834acab",
   "metadata": {},
   "outputs": [],
   "source": [
    "example_input = '../workspace_draft/data/raw-html/test-examples/scarf.html'\n",
    "\n",
    "plain_text = get_plain_text_from_html(example_input)"
   ]
  },
  {
   "cell_type": "code",
   "execution_count": 15,
   "id": "035abaa3-bf01-4064-b210-cc980fb6f58d",
   "metadata": {},
   "outputs": [
    {
     "name": "stdout",
     "output_type": "stream",
     "text": [
      "['scarf', 'scarf', 'scarf', 'necktie', 'scarf', 'scarf', 'scarf', 'scarf', 'scarf', 'sport', 'scarf', 'scarf', 'scarf', 'ponchos', 'scarf', 'scarf', 'necktie', 'tie', 'scarf', 'cowboy', 'necktie', 'kerchief', 'scarf', 'scarf', 'gown', 'scarf', 'scarf', 'scarf', 'scarf', 'steal', 'scarf', 'scarf', 'scarf', 'scarf', 'uniform', 'scarf', 'scarf', 'scarf', 'scarf', 'scarf', 'uniform', 'scarf', 'scarf', 'scarf', 'scarf', 'scarf', 'scarf', 'hat', 'scarf', 'scarf', 'scarf', 'scarf', 'scarf', 'scarf']\n"
     ]
    }
   ],
   "source": [
    "doc = nlp(plain_text)\n",
    "ner_doc = my_ner(plain_text)\n",
    "text = [nlp(e.text)[0].lemma_ for e in ner_doc.ents]\n",
    "print(text)"
   ]
  },
  {
   "cell_type": "code",
   "execution_count": null,
   "id": "30ae383b-d996-45cb-8c41-8ac68447db90",
   "metadata": {},
   "outputs": [],
   "source": []
  }
 ],
 "metadata": {
  "kernelspec": {
   "display_name": "Python 3 (ipykernel)",
   "language": "python",
   "name": "python3"
  },
  "language_info": {
   "codemirror_mode": {
    "name": "ipython",
    "version": 3
   },
   "file_extension": ".py",
   "mimetype": "text/x-python",
   "name": "python",
   "nbconvert_exporter": "python",
   "pygments_lexer": "ipython3",
   "version": "3.13.3"
  }
 },
 "nbformat": 4,
 "nbformat_minor": 5
}
